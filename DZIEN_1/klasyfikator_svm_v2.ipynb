{
 "cells":[
  {
   "cell_type":"markdown",
   "source":[
    "Zastosowanie w klasyfikatorze algorytmu SVM.\n",
    "<h2>Maszyna Wektorów Nośnych<\/h2>\n",
    "<p style=\"font-size:15pt; color:red;\">Zbiór danych: cyfry pisane odręcznie.<\/p>"
   ],
   "attachments":{
    
   },
   "metadata":{
    "datalore":{
     "node_id":"WboKT0VLuWN9vB2gFK9Giy",
     "type":"MD",
     "hide_input_from_viewers":true,
     "hide_output_from_viewers":true
    }
   }
  },
  {
   "cell_type":"code",
   "source":[
    "import matplotlib.pyplot as plt\n",
    "from sklearn import datasets,svm,metrics\n",
    "from sklearn.model_selection import train_test_split"
   ],
   "execution_count":1,
   "outputs":[
    
   ],
   "metadata":{
    "datalore":{
     "node_id":"MBBekxllyyFHVD6UxGIkpB",
     "type":"CODE",
     "hide_input_from_viewers":true,
     "hide_output_from_viewers":true
    }
   }
  },
  {
   "cell_type":"code",
   "source":[
    "#pobranie zbioru danych\n",
    "digits = datasets.load_digits()\n",
    "\n",
    "_, axes = plt.subplots(nrows=1,ncols=4, figsize=(10,3))\n",
    "for ax,image,label in zip(axes,digits.images, digits.target):\n",
    "    ax.set_axis_off()\n",
    "    ax.imshow(image, cmap=plt.cm.gray_r,interpolation=\"nearest\")\n",
    "    ax.set_title(\"Obraz treningowy %i\" % label)"
   ],
   "execution_count":3,
   "outputs":[
    {
     "data":{
      "image\/png":"[encoded data removed]"
     },
     "metadata":{
      "image\/png":{
       
      }
     },
     "output_type":"display_data"
    }
   ],
   "metadata":{
    "datalore":{
     "node_id":"N2bBjM3UxACjYDK29MZmwa",
     "type":"CODE",
     "hide_input_from_viewers":true,
     "hide_output_from_viewers":true
    }
   }
  },
  {
   "cell_type":"code",
   "source":[
    "n_samples = len(digits.images)\n",
    "print(n_samples)\n",
    "data = digits.images.reshape((n_samples,-1))\n",
    "print(data.shape)\n",
    "clf = svm.SVC(gamma=0.001)\n",
    "\n",
    "X_train, X_test, y_train, y_test = train_test_split(\n",
    "    data,digits.target,test_size=0.5,shuffle=False\n",
    ")\n",
    "clf.fit(X_train,y_train)\n",
    "predicted = clf.predict(X_test)"
   ],
   "execution_count":6,
   "outputs":[
    {
     "name":"stdout",
     "text":[
      "1797\n",
      "(1797, 64)\n"
     ],
     "output_type":"stream"
    }
   ],
   "metadata":{
    "datalore":{
     "node_id":"DwfRBQaezoZpD9eOIBxp2n",
     "type":"CODE",
     "hide_input_from_viewers":true,
     "hide_output_from_viewers":true
    }
   }
  },
  {
   "cell_type":"code",
   "source":[
    "_, axes = plt.subplots(nrows=1,ncols=4, figsize=(10,3))\n",
    "for ax,image,prediction in zip(axes,X_test, predicted):\n",
    "    ax.set_axis_off()\n",
    "    image = image.reshape(8,8)\n",
    "    ax.imshow(image, cmap=plt.cm.gray_r,interpolation=\"nearest\")\n",
    "    ax.set_title(f\"Predykcja {prediction}\")"
   ],
   "execution_count":7,
   "outputs":[
    {
     "data":{
      "image\/png":"[encoded data removed]"
     },
     "metadata":{
      "image\/png":{
       
      }
     },
     "output_type":"display_data"
    }
   ],
   "metadata":{
    "datalore":{
     "node_id":"50q3Un51ecRzMTph71k01H",
     "type":"CODE",
     "hide_input_from_viewers":true,
     "hide_output_from_viewers":true
    }
   }
  }
 ],
 "metadata":{
  "kernelspec":{
   "display_name":"Python",
   "language":"python",
   "name":"python"
  },
  "datalore":{
   "computation_mode":"JUPYTER",
   "package_manager":"pip",
   "base_environment":"default",
   "packages":[
    
   ],
   "report_row_ids":[
    
   ],
   "version":3
  }
 },
 "nbformat":4,
 "nbformat_minor":4
}